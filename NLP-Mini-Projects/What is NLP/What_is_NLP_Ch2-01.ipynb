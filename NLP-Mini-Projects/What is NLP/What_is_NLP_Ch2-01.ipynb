{
 "cells": [
  {
   "cell_type": "markdown",
   "id": "expressed-alias",
   "metadata": {},
   "source": [
    "# 딥러닝을 이용한 자연어 처리 입문\n",
    "## 02. 텍스트 전처리(Text preprocessing)"
   ]
  },
  {
   "cell_type": "markdown",
   "id": "tired-rehabilitation",
   "metadata": {},
   "source": [
    "## 01) 토큰화(Tokenization)\n",
    "* 정의: 주어진 코퍼스에서 토큰이라 불리는 단위로 나누는 작업\n",
    "\n",
    "### 단어 토큰화(Word Tokenization)\n",
    "* 영어는 띄어쓰기로 구분 되지만 한국어는 그렇지 않음\n",
    "* NLTK는 영어 코퍼스를 토큰화하기 위한 도구들을 제공"
   ]
  },
  {
   "cell_type": "code",
   "execution_count": 2,
   "id": "seven-joshua",
   "metadata": {},
   "outputs": [
    {
     "name": "stdout",
     "output_type": "stream",
     "text": [
      "[\"Dont't\", 'be', 'fooled', 'by', 'the', 'dark', 'sounding', 'name', ',', 'Mr.', 'Jone', \"'s\", 'Orphanage', 'is', 'as', 'cheery', 'as', 'cheery', 'goes', 'for', 'a', 'pastry', 'shop', '.']\n"
     ]
    }
   ],
   "source": [
    "from nltk.tokenize import word_tokenize\n",
    "print(word_tokenize(\"Dont't be fooled by the dark sounding name, Mr. Jone's Orphanage is as cheery as cheery goes for a pastry shop.\"))\n",
    "\n",
    "# Don't를 do와 n't로 분리, Jone's는 John과 's로 분리"
   ]
  },
  {
   "cell_type": "code",
   "execution_count": 3,
   "id": "interested-conservation",
   "metadata": {},
   "outputs": [
    {
     "name": "stdout",
     "output_type": "stream",
     "text": [
      "['Don', \"'\", 't', 'be', 'fooled', 'by', 'the', 'dark', 'sounding', 'name', ',', 'Mr', '.', 'Jone', \"'\", 's', 'Orphanage', 'is', 'as', 'cheery', 'as', 'cheery', 'goes', 'for', 'a', 'pastry', 'shop', '.']\n"
     ]
    }
   ],
   "source": [
    "from nltk.tokenize import WordPunctTokenizer\n",
    "print(WordPunctTokenizer().tokenize(\"Don't be fooled by the dark sounding name, Mr. Jone's Orphanage is as cheery as cheery goes for a pastry shop.\"))\n",
    "\n",
    "# WordPunctTokenizer는 구두점을 별도로 분류하는 특징을 갖고 있음\n",
    "# 앞서 확인했던 word_tokenize와는 달리 Don't를 Don과 '와 t로 분리\n",
    "# Jone's를 Jone과 '와 s로 분리한 것"
   ]
  },
  {
   "cell_type": "code",
   "execution_count": 5,
   "id": "silent-nelson",
   "metadata": {},
   "outputs": [
    {
     "name": "stdout",
     "output_type": "stream",
     "text": [
      "[\"don't\", 'be', 'fooled', 'by', 'the', 'dark', 'sounding', 'name', 'mr', \"jone's\", 'orphanage', 'is', 'as', 'cheery', 'as', 'cheery', 'goes', 'for', 'a', 'pastry', 'shop']\n"
     ]
    }
   ],
   "source": [
    "# 케라스토 토큰화 도구로서 text_to_word_sequence 제공\n",
    "from tensorflow.keras.preprocessing.text import text_to_word_sequence\n",
    "print(text_to_word_sequence(\"Don't be fooled by the dark sounding name, Mr. Jone's Orphanage is as cheery as cheery goes for a pastry shop.\"))\n",
    "\n",
    "# 기본적으로 모든 알파벳을 소문자로 바꾸면서 마침표, 컴마, 느낌표 등 구두점을 제거\n",
    "# don't나 jone's 같은 경우 아포스트로피는 보존함"
   ]
  },
  {
   "cell_type": "markdown",
   "id": "therapeutic-soundtrack",
   "metadata": {},
   "source": [
    "토큰화에서 고려해야 할 사항\n",
    "* 1) 구두점이나 특수 문자를 단순 제외해서는 안 된다.\n",
    "* 2) 줄임말과 단어 내에 띄어쓰기가 있는 경우\n",
    "* 3) 표준 토큰화 예제"
   ]
  },
  {
   "cell_type": "code",
   "execution_count": 6,
   "id": "executive-pasta",
   "metadata": {},
   "outputs": [
    {
     "name": "stdout",
     "output_type": "stream",
     "text": [
      "['Starting', 'a', 'home-based', 'restaurant', 'may', 'be', 'an', 'ideal.', 'it', 'does', \"n't\", 'have', 'a', 'food', 'chain', 'or', 'restaurant', 'of', 'their', 'own', '.']\n"
     ]
    }
   ],
   "source": [
    "# Penn Treebank Tokenization\n",
    "from nltk.tokenize import TreebankWordTokenizer\n",
    "tokenizer=TreebankWordTokenizer()\n",
    "text=\"Starting a home-based restaurant may be an ideal. it doesn't have a food chain or restaurant of their own.\"\n",
    "print(tokenizer.tokenize(text))\n",
    "\n",
    "# 하이푼은 하나로, 아포스트로피로 접어가 함께하면 분리\n",
    "# home-based는 하나로, doesn't는 does와 n't로 분리"
   ]
  },
  {
   "cell_type": "markdown",
   "id": "quiet-devil",
   "metadata": {},
   "source": [
    "### 문장 토큰화(Sentence Tokenization)\n",
    "aka 문장 분류(Sentence segmentation)\n",
    "* NLTK에서는 영어 문장의 토큰화를 수행하는 sent_tokenize를 지원"
   ]
  },
  {
   "cell_type": "code",
   "execution_count": 8,
   "id": "cubic-abortion",
   "metadata": {},
   "outputs": [
    {
     "name": "stdout",
     "output_type": "stream",
     "text": [
      "['His barber kept his word.', 'But keeping such a huge secret to himself was driving him crazy.', 'Finally, the barber went up a mountain and almost to the edge of a cliff.', 'He dug a hole in the midst of some reeds.', 'He looked about, to make sure no one was near.']\n"
     ]
    }
   ],
   "source": [
    "from nltk.tokenize import sent_tokenize\n",
    "text=\"His barber kept his word. But keeping such a huge secret to himself was driving him crazy. Finally, the barber went up a mountain and almost to the edge of a cliff. He dug a hole in the midst of some reeds. He looked about, to make sure no one was near.\"\n",
    "print(sent_tokenize(text))"
   ]
  },
  {
   "cell_type": "code",
   "execution_count": 9,
   "id": "novel-metro",
   "metadata": {},
   "outputs": [
    {
     "name": "stdout",
     "output_type": "stream",
     "text": [
      "['I am actively looking for Ph.D. students.', 'and you are a Ph.D student.']\n"
     ]
    }
   ],
   "source": [
    "# 문장 중간에 마침표가 여러 번 등장하는 경우\n",
    "from nltk.tokenize import sent_tokenize\n",
    "text=\"I am actively looking for Ph.D. students. and you are a Ph.D student.\"\n",
    "print(sent_tokenize(text))\n",
    "\n",
    "# 단순히 마침표를 구분자로 하여 문장을 구분하지 않았기 때문에 Ph.D.를 문장 내의 단어로 인식하여 성공적으로 인시가는 것을 볼 수 있음"
   ]
  },
  {
   "cell_type": "code",
   "execution_count": 17,
   "id": "burning-impact",
   "metadata": {},
   "outputs": [
    {
     "name": "stdout",
     "output_type": "stream",
     "text": [
      "Collecting kss\n",
      "  Using cached kss-2.5.0-py3-none-any.whl (68 kB)\n",
      "Installing collected packages: kss\n",
      "Successfully installed kss-2.5.0\n"
     ]
    }
   ],
   "source": [
    "!pip install kss"
   ]
  },
  {
   "cell_type": "code",
   "execution_count": 18,
   "id": "painful-oracle",
   "metadata": {},
   "outputs": [
    {
     "name": "stdout",
     "output_type": "stream",
     "text": [
      "['딥 러닝 자연어 처리가 재미있기는 합니다.', '그런데 문제는 영어보다 한국어로 할 때 너무 어려워요.', '농담아니에요.', '이제 해보면 알걸요?']\n"
     ]
    }
   ],
   "source": [
    "# 한국어에 대한 문장 토큰화 도구는 KSS(Korean Sentence Splitter)\n",
    "import kss\n",
    "\n",
    "text='딥 러닝 자연어 처리가 재미있기는 합니다. 그런데 문제는 영어보다 한국어로 할 때 너무 어려워요. 농담아니에요. 이제 해보면 알걸요?'\n",
    "print(kss.split_sentences(text))"
   ]
  },
  {
   "cell_type": "markdown",
   "id": "expressed-philip",
   "metadata": {},
   "source": [
    "### 이진 분류기(Binary Classifier)\n",
    "* 문장 토큰화에서의 예외 사항을 발생시키는 마침표의 처리를 위해서 입력에 따라 두 개의 클래스로 분류하는 이진 분류기를 사용하기도 함\n",
    "* 두 개의 클래스: \n",
    "    마침표가 단어의 일부분일 경우, 즉 마침표가 약어로 쓰이는 경우\n",
    "    마침표가 정말로 문장의 구분자일 경우\n",
    "* 이를 결정하기 위해서는 어떤 마침표가 주로 약어에 사용되는지 알아야함. 약어 사전 활용.\n",
    "* 이러한 문장 토큰화 수행하는 오픈 소스: NLTK, OpenNLP, 스탠포드 CoreNLP, splitta, LingPipe"
   ]
  },
  {
   "cell_type": "markdown",
   "id": "polar-trail",
   "metadata": {},
   "source": [
    "* 한국어는 어절 토큰화(띄어쓰기 단위의 토큰화)는 지양되고 있음\n",
    "* 한국어는 교착어(조사, 어미 등을 붙여서 말을 만드는 언어)\n",
    "\n",
    "#### 1) 영어와 달리 한국어에는 조사라는 것이 존재\n",
    "- 한국어에서는 형태소(morpheme)이라는 개념을 반드시 이해\n",
    "- 형태소: 뜻을 가진 가장 작은 말의 단위\n",
    "    자립 형태소(접사, 어미 조사와 상관없이 사용. 자체로 단어. 체언, 수식언, 감탄사)와 의존 형태소(다른 형태소와 결합하여 사용되는 형태소. 접사, 어미, 조사, 어간)\n",
    "    \n",
    "- 영어에서의 단어 토큰화와 유사항 현태를 얻으려면 어절 토큰화가 아닌 형태소 토큰화를 해야 함"
   ]
  },
  {
   "cell_type": "markdown",
   "id": "progressive-reunion",
   "metadata": {},
   "source": [
    "#### 2) 한국어는 띄어쓰기가 영어보다 잘 지켜지지 않음\n",
    "\n",
    "### 품사 태깅(Part of speech tagging)\n",
    "* ex. fly: 동사) 날다, 명사) 파리\n",
    "* ex. 못: 명사) 망치를 사용해 목재 고정, 부사) +먹는다, +달린다와 같은 동작 동사를 할 수 없음\n",
    "\n",
    "    \n",
    "* 결국 단어의 의미를 제대로 파악하기 위해서는 해당 단어가 어떤 품사로 쓰였는지 보는 것이 주요 지표가 될 수 있음\n",
    "* 단어 토큰화 과정에서 품사 구분 <- 품사 태깅"
   ]
  },
  {
   "cell_type": "code",
   "execution_count": 22,
   "id": "seven-pontiac",
   "metadata": {},
   "outputs": [
    {
     "name": "stdout",
     "output_type": "stream",
     "text": [
      "['I', 'am', 'actively', 'looking', 'for', 'Ph.D.', 'students', '.', 'and', 'you', 'are', 'a', 'Ph.D.', 'student', '.']\n"
     ]
    }
   ],
   "source": [
    "# NLTK에서는 PennTreebank POS Tags라는 기준 사용\n",
    "from nltk.tokenize import word_tokenize\n",
    "text=\"I am actively looking for Ph.D. students. and you are a Ph.D. student.\"\n",
    "print(word_tokenize(text))"
   ]
  },
  {
   "cell_type": "code",
   "execution_count": 23,
   "id": "figured-number",
   "metadata": {},
   "outputs": [
    {
     "data": {
      "text/plain": [
       "[('I', 'PRP'),\n",
       " ('am', 'VBP'),\n",
       " ('actively', 'RB'),\n",
       " ('looking', 'VBG'),\n",
       " ('for', 'IN'),\n",
       " ('Ph.D.', 'NNP'),\n",
       " ('students', 'NNS'),\n",
       " ('.', '.'),\n",
       " ('and', 'CC'),\n",
       " ('you', 'PRP'),\n",
       " ('are', 'VBP'),\n",
       " ('a', 'DT'),\n",
       " ('Ph.D.', 'NNP'),\n",
       " ('student', 'NN'),\n",
       " ('.', '.')]"
      ]
     },
     "execution_count": 23,
     "metadata": {},
     "output_type": "execute_result"
    }
   ],
   "source": [
    "from nltk.tag import pos_tag\n",
    "x=word_tokenize(text)\n",
    "pos_tag(x)"
   ]
  },
  {
   "cell_type": "markdown",
   "id": "neither-alert",
   "metadata": {},
   "source": [
    "PRP(인칭대명사), VBP(동사), RB(부사), VBG(현재부사), IN(전치사), NNP(고유명사), NNS(복수형 명사), CC(접속사), DT(관사)"
   ]
  },
  {
   "cell_type": "markdown",
   "id": "statutory-breath",
   "metadata": {},
   "source": [
    "#### 한국어 자연어 처리를 위해서는 KoNLPy(코엔엘파이)라는 파이썬 패키지 사용\n",
    "* 코엔엘파이에서 사용할 수 있는 형태소 분석기로 Okt(Open Korea Text), 메캅(Mecab), 코모란(Komoran), 한나눔(Hannanum), 꼬꼬마(Kkma)\n",
    "* 한국어 NLP에서의 형태소 분석기는 단어 토큰화라기보다는 정확히는 **형태소(morpheme) 단위로 형태소 토큰화(morpheme tokenization)**을 수행하게 됨"
   ]
  },
  {
   "cell_type": "code",
   "execution_count": 26,
   "id": "careful-exemption",
   "metadata": {},
   "outputs": [
    {
     "name": "stdout",
     "output_type": "stream",
     "text": [
      "['열심히', '코딩', '한', '당신', ',', '연휴', '에는', '여행', '을', '가봐요']\n"
     ]
    }
   ],
   "source": [
    "from konlpy.tag import Okt\n",
    "okt=Okt()\n",
    "\n",
    "# 형태소 추출(조사를 기본적으로 분석)\n",
    "print(okt.morphs(\"열심히 코딩한 당신, 연휴에는 여행을 가봐요\"))"
   ]
  },
  {
   "cell_type": "code",
   "execution_count": 27,
   "id": "typical-invite",
   "metadata": {},
   "outputs": [
    {
     "name": "stdout",
     "output_type": "stream",
     "text": [
      "[('열심히', 'Adverb'), ('코딩', 'Noun'), ('한', 'Josa'), ('당신', 'Noun'), (',', 'Punctuation'), ('연휴', 'Noun'), ('에는', 'Josa'), ('여행', 'Noun'), ('을', 'Josa'), ('가봐요', 'Verb')]\n"
     ]
    }
   ],
   "source": [
    "# 품사 태깅(POS tagging)\n",
    "print(okt.pos(\"열심히 코딩한 당신, 연휴에는 여행을 가봐요\"))"
   ]
  },
  {
   "cell_type": "code",
   "execution_count": 28,
   "id": "generic-manner",
   "metadata": {},
   "outputs": [
    {
     "name": "stdout",
     "output_type": "stream",
     "text": [
      "['코딩', '당신', '연휴', '여행']\n"
     ]
    }
   ],
   "source": [
    "# 명사 추출\n",
    "print(okt.nouns(\"열심히 코딩한 당신, 연휴에는 여행을 가봐요\"))  "
   ]
  },
  {
   "cell_type": "code",
   "execution_count": 29,
   "id": "minimal-zambia",
   "metadata": {},
   "outputs": [
    {
     "name": "stdout",
     "output_type": "stream",
     "text": [
      "['열심히', '코딩', '하', 'ㄴ', '당신', ',', '연휴', '에', '는', '여행', '을', '가보', '아요']\n"
     ]
    }
   ],
   "source": [
    "from konlpy.tag import Kkma\n",
    "kkma = Kkma()\n",
    "# 형태소 추출\n",
    "print(kkma.morphs(\"열심히 코딩한 당신, 연휴에는 여행을 가봐요\"))"
   ]
  },
  {
   "cell_type": "code",
   "execution_count": 30,
   "id": "driving-sight",
   "metadata": {},
   "outputs": [
    {
     "name": "stdout",
     "output_type": "stream",
     "text": [
      "[('열심히', 'MAG'), ('코딩', 'NNG'), ('하', 'XSV'), ('ㄴ', 'ETD'), ('당신', 'NP'), (',', 'SP'), ('연휴', 'NNG'), ('에', 'JKM'), ('는', 'JX'), ('여행', 'NNG'), ('을', 'JKO'), ('가보', 'VV'), ('아요', 'EFN')]\n"
     ]
    }
   ],
   "source": [
    "# 품사 태깅(POS tagging)\n",
    "print(kkma.pos(\"열심히 코딩한 당신, 연휴에는 여행을 가봐요\"))"
   ]
  },
  {
   "cell_type": "code",
   "execution_count": 31,
   "id": "mathematical-delight",
   "metadata": {},
   "outputs": [
    {
     "name": "stdout",
     "output_type": "stream",
     "text": [
      "['코딩', '당신', '연휴', '여행']\n"
     ]
    }
   ],
   "source": [
    "# 명사 추출\n",
    "print(kkma.nouns(\"열심히 코딩한 당신, 연휴에는 여행을 가봐요\"))  "
   ]
  }
 ],
 "metadata": {
  "kernelspec": {
   "display_name": "Python 3",
   "language": "python",
   "name": "python3"
  },
  "language_info": {
   "codemirror_mode": {
    "name": "ipython",
    "version": 3
   },
   "file_extension": ".py",
   "mimetype": "text/x-python",
   "name": "python",
   "nbconvert_exporter": "python",
   "pygments_lexer": "ipython3",
   "version": "3.7.4"
  }
 },
 "nbformat": 4,
 "nbformat_minor": 5
}
